{
 "cells": [
  {
   "cell_type": "code",
   "execution_count": 1,
   "metadata": {},
   "outputs": [],
   "source": [
    "seed=1\n",
    "from deeppavlov import build_model\n",
    "from deeppavlov import configs\n",
    "import pandas as pd\n",
    "import os\n",
    "import numpy as np\n",
    "import joblib\n",
    "import sklearn.cluster as cluster\n",
    "import umap\n",
    "import warnings\n",
    "warnings.filterwarnings(\"ignore\", category=UserWarning)\n",
    "pd.set_option('mode.chained_assignment', None)\n",
    "from elmo_clustering import ELMoClustering"
   ]
  },
  {
   "cell_type": "markdown",
   "metadata": {},
   "source": [
    "## Данные"
   ]
  },
  {
   "cell_type": "code",
   "execution_count": 2,
   "metadata": {},
   "outputs": [],
   "source": [
    "data_path = 'data'"
   ]
  },
  {
   "cell_type": "code",
   "execution_count": 3,
   "metadata": {},
   "outputs": [],
   "source": [
    "if not os.path.exists('outs'):\n",
    "    os.mkdir('outs')"
   ]
  },
  {
   "cell_type": "code",
   "execution_count": 4,
   "metadata": {},
   "outputs": [
    {
     "data": {
      "text/html": [
       "<div>\n",
       "<style scoped>\n",
       "    .dataframe tbody tr th:only-of-type {\n",
       "        vertical-align: middle;\n",
       "    }\n",
       "\n",
       "    .dataframe tbody tr th {\n",
       "        vertical-align: top;\n",
       "    }\n",
       "\n",
       "    .dataframe thead th {\n",
       "        text-align: right;\n",
       "    }\n",
       "</style>\n",
       "<table border=\"1\" class=\"dataframe\">\n",
       "  <thead>\n",
       "    <tr style=\"text-align: right;\">\n",
       "      <th></th>\n",
       "      <th>context_id</th>\n",
       "      <th>word</th>\n",
       "      <th>gold_sense_id</th>\n",
       "      <th>predict_sense_id</th>\n",
       "      <th>positions</th>\n",
       "      <th>context</th>\n",
       "    </tr>\n",
       "  </thead>\n",
       "  <tbody>\n",
       "    <tr>\n",
       "      <th>0</th>\n",
       "      <td>440</td>\n",
       "      <td>банка</td>\n",
       "      <td>1</td>\n",
       "      <td>NaN</td>\n",
       "      <td>7-12, 36-41</td>\n",
       "      <td>здание банка китая ( макао ) здание банка кита...</td>\n",
       "    </tr>\n",
       "    <tr>\n",
       "      <th>1</th>\n",
       "      <td>441</td>\n",
       "      <td>банка</td>\n",
       "      <td>2</td>\n",
       "      <td>NaN</td>\n",
       "      <td>13-18, 201-206</td>\n",
       "      <td>трехлитровая банка во времена ссср такие банки...</td>\n",
       "    </tr>\n",
       "    <tr>\n",
       "      <th>2</th>\n",
       "      <td>442</td>\n",
       "      <td>банка</td>\n",
       "      <td>1</td>\n",
       "      <td>NaN</td>\n",
       "      <td>21-26, 58-63, 101-106, 263-268, 538-543</td>\n",
       "      <td>здание национального банка украины в здании на...</td>\n",
       "    </tr>\n",
       "    <tr>\n",
       "      <th>3</th>\n",
       "      <td>443</td>\n",
       "      <td>банка</td>\n",
       "      <td>1</td>\n",
       "      <td>NaN</td>\n",
       "      <td>134-139, 262-267, 345-350</td>\n",
       "      <td>зюдфиртель города эссен ( федеральная земля се...</td>\n",
       "    </tr>\n",
       "    <tr>\n",
       "      <th>4</th>\n",
       "      <td>444</td>\n",
       "      <td>банка</td>\n",
       "      <td>1</td>\n",
       "      <td>NaN</td>\n",
       "      <td>43-48, 300-305, 381-386, 521-526</td>\n",
       "      <td>ведения боевых действий полевые учреждения бан...</td>\n",
       "    </tr>\n",
       "  </tbody>\n",
       "</table>\n",
       "</div>"
      ],
      "text/plain": [
       "   context_id   word  gold_sense_id  predict_sense_id  \\\n",
       "0         440  банка              1               NaN   \n",
       "1         441  банка              2               NaN   \n",
       "2         442  банка              1               NaN   \n",
       "3         443  банка              1               NaN   \n",
       "4         444  банка              1               NaN   \n",
       "\n",
       "                                 positions  \\\n",
       "0                              7-12, 36-41   \n",
       "1                           13-18, 201-206   \n",
       "2  21-26, 58-63, 101-106, 263-268, 538-543   \n",
       "3                134-139, 262-267, 345-350   \n",
       "4         43-48, 300-305, 381-386, 521-526   \n",
       "\n",
       "                                             context  \n",
       "0  здание банка китая ( макао ) здание банка кита...  \n",
       "1  трехлитровая банка во времена ссср такие банки...  \n",
       "2  здание национального банка украины в здании на...  \n",
       "3  зюдфиртель города эссен ( федеральная земля се...  \n",
       "4  ведения боевых действий полевые учреждения бан...  "
      ]
     },
     "execution_count": 4,
     "metadata": {},
     "output_type": "execute_result"
    }
   ],
   "source": [
    "test = pd.read_csv(os.path.join(data_path, 'main/wiki-wiki/test-solution.csv'), sep='\\t')\n",
    "test.head()"
   ]
  },
  {
   "cell_type": "markdown",
   "metadata": {},
   "source": [
    "## Модель"
   ]
  },
  {
   "cell_type": "markdown",
   "metadata": {},
   "source": [
    "Векторные представления слов с учетом контекста можно получить из языковой модели ELMo. Векторное представление контекста получалось усреднением векторов отдельных слов. Размерность векторов ELMo большая - 2560. Использование алгоритма сокращения размерности UMAP позволило улучшить результат."
   ]
  },
  {
   "cell_type": "code",
   "execution_count": 5,
   "metadata": {},
   "outputs": [
    {
     "name": "stderr",
     "output_type": "stream",
     "text": [
      "2020-09-01 17:50:42.291 INFO in 'deeppavlov.download'['download'] at line 132: Skipped http://files.deeppavlov.ai/deeppavlov_data/elmo_ru-wiki_600k_steps.tar.gz download because of matching hashes\n",
      "[nltk_data] Downloading package punkt to /home/laks/nltk_data...\n",
      "[nltk_data]   Package punkt is already up-to-date!\n",
      "[nltk_data] Downloading package stopwords to /home/laks/nltk_data...\n",
      "[nltk_data]   Package stopwords is already up-to-date!\n",
      "[nltk_data] Downloading package perluniprops to\n",
      "[nltk_data]     /home/laks/nltk_data...\n",
      "[nltk_data]   Package perluniprops is already up-to-date!\n",
      "[nltk_data] Downloading package nonbreaking_prefixes to\n",
      "[nltk_data]     /home/laks/nltk_data...\n",
      "[nltk_data]   Package nonbreaking_prefixes is already up-to-date!\n"
     ]
    },
    {
     "name": "stdout",
     "output_type": "stream",
     "text": [
      "WARNING:tensorflow:From /home/laks/deeppavlovenv/lib/python3.7/site-packages/deeppavlov/models/embedders/elmo_embedder.py:186: The name tf.ConfigProto is deprecated. Please use tf.compat.v1.ConfigProto instead.\n",
      "\n",
      "WARNING:tensorflow:From /home/laks/deeppavlovenv/lib/python3.7/site-packages/deeppavlov/models/embedders/elmo_embedder.py:188: The name tf.Session is deprecated. Please use tf.compat.v1.Session instead.\n",
      "\n",
      "WARNING:tensorflow:From /home/laks/deeppavlovenv/lib/python3.7/site-packages/deeppavlov/models/embedders/elmo_embedder.py:190: The name tf.placeholder is deprecated. Please use tf.compat.v1.placeholder instead.\n",
      "\n",
      "INFO:tensorflow:Saver not created because there are no variables in the graph to restore\n",
      "WARNING:tensorflow:From /home/laks/deeppavlovenv/lib/python3.7/site-packages/deeppavlov/models/embedders/elmo_embedder.py:198: The name tf.global_variables_initializer is deprecated. Please use tf.compat.v1.global_variables_initializer instead.\n",
      "\n"
     ]
    }
   ],
   "source": [
    "model = build_model(configs.embedder.elmo_ru_wiki, download=True)"
   ]
  },
  {
   "cell_type": "code",
   "execution_count": 6,
   "metadata": {},
   "outputs": [],
   "source": [
    "if not os.path.exists('vecs'):\n",
    "    os.mkdir('vecs')"
   ]
  },
  {
   "cell_type": "code",
   "execution_count": 7,
   "metadata": {},
   "outputs": [
    {
     "data": {
      "text/plain": [
       "['vecs/test-elmo-vecs.joblib']"
      ]
     },
     "execution_count": 7,
     "metadata": {},
     "output_type": "execute_result"
    }
   ],
   "source": [
    "vecs = model(test.context.to_list()) # сохраним вектора, чтобы не тратить время на их построение \n",
    "joblib.dump(vecs, 'vecs/test-elmo-vecs.joblib') # при перезапуске и для воспроизводимости результатов"
   ]
  },
  {
   "cell_type": "markdown",
   "metadata": {},
   "source": [
    "## Результаты на wiki-wiki"
   ]
  },
  {
   "cell_type": "code",
   "execution_count": 8,
   "metadata": {},
   "outputs": [
    {
     "name": "stdout",
     "output_type": "stream",
     "text": [
      "word\tari\tcount\n",
      "банка\t0.704805\t112\n",
      "белка\t0.816314\t135\n",
      "бит\t1.000000\t84\n",
      "горе\t0.868894\t60\n",
      "граф\t0.972907\t148\n",
      "душ\t0.000000\t79\n",
      "\t0.759327\t618\n",
      "\n"
     ]
    }
   ],
   "source": [
    "kmeans_params={'n_clusters':2, 'n_init':20, 'random_state':seed}\n",
    "#количество кластеров - из описания данных http://www.dialog-21.ru/media/4539/panchenkoaplusetal.pdf\n",
    "\n",
    "umap_params = {'n_neighbors':20,\n",
    "              'min_dist':0.03,\n",
    "              'metric':'cosine',\n",
    "              'random_state':seed}\n",
    "elmo_clustering = ELMoClustering(data_path=os.path.join(data_path, 'main/wiki-wiki/test-solution.csv'),\n",
    "                                          vecs_path='vecs/test-elmo-vecs.joblib',\n",
    "                                          seed=seed,\n",
    "                                          umap_params=umap_params,\n",
    "                                          kmeans_params=kmeans_params,\n",
    "                                          out_path='outs/elmo-test-wiki-wiki.csv',\n",
    "                                          ari_venv_path='../../deeppavlovenv')\n",
    "elmo_clustering.fit_predict()\n",
    "\n",
    "# запускает в subprocess скрипт из соревнования.\n",
    "ari=elmo_clustering.evaluate()\n",
    "print(ari)"
   ]
  }
 ],
 "metadata": {
  "kernelspec": {
   "display_name": "deeppavlov",
   "language": "python",
   "name": "deeppavlov"
  },
  "language_info": {
   "codemirror_mode": {
    "name": "ipython",
    "version": 3
   },
   "file_extension": ".py",
   "mimetype": "text/x-python",
   "name": "python",
   "nbconvert_exporter": "python",
   "pygments_lexer": "ipython3",
   "version": "3.7.7"
  }
 },
 "nbformat": 4,
 "nbformat_minor": 4
}
